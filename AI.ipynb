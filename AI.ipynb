{
  "nbformat": 4,
  "nbformat_minor": 0,
  "metadata": {
    "colab": {
      "provenance": [],
      "authorship_tag": "ABX9TyMF1mL859QqKujEr6dQ0rWY",
      "include_colab_link": true
    },
    "kernelspec": {
      "name": "python3",
      "display_name": "Python 3"
    },
    "language_info": {
      "name": "python"
    }
  },
  "cells": [
    {
      "cell_type": "markdown",
      "metadata": {
        "id": "view-in-github",
        "colab_type": "text"
      },
      "source": [
        "<a href=\"https://colab.research.google.com/github/lohi629/lohitha/blob/master/AI.ipynb\" target=\"_parent\"><img src=\"https://colab.research.google.com/assets/colab-badge.svg\" alt=\"Open In Colab\"/></a>"
      ]
    },
    {
      "cell_type": "markdown",
      "source": [
        "Uniform cost search\n"
      ],
      "metadata": {
        "id": "W6Ss165TnEfa"
      }
    },
    {
      "cell_type": "code",
      "execution_count": 23,
      "metadata": {
        "colab": {
          "base_uri": "https://localhost:8080/"
        },
        "id": "HCehxQQDaeeE",
        "outputId": "e539a739-a3a3-4e22-f9de-02dc55252c87"
      },
      "outputs": [
        {
          "output_type": "stream",
          "name": "stdout",
          "text": [
            "[[0, 2, 5, 0], [2, 0, 0, 4], [5, 0, 0, 3], [0, 4, 3, 0]]\n",
            "enter initial node:0\n",
            "enter goal:3\n",
            "6\n"
          ]
        }
      ],
      "source": [
        "x=[[0,2,5,0],[2,0,0,4],[5,0,0,3],[0,4,3,0]]\n",
        "print(x)\n",
        "      \n",
        "ini=int(input(\"enter initial node:\"))\n",
        "goal=int(input(\"enter goal:\"))\n",
        "def ucs(x,ini,goal):\n",
        "  fron=[]\n",
        "  cost=[]\n",
        "  vis=[]\n",
        "  ans=[]\n",
        "  fron.append(ini)\n",
        "  cost.append(0)\n",
        "  while(len(fron)!=0):\n",
        "    j=fron.pop(0)\n",
        "    k=cost.pop(0)\n",
        "    if j not in vis:\n",
        "      vis.append(j)\n",
        "      for i in range(len(x)):\n",
        "        if(x[j][i]!=0):\n",
        "          if(i==goal):\n",
        "            ans.append(x[j][i]+k)\n",
        "            continue\n",
        "          if(i not in vis):\n",
        "            fron.append(i)\n",
        "            cost.append(x[j][i]+k)\n",
        "  m=min(ans)\n",
        "  return m\n",
        "print(ucs(x,ini,goal))\n",
        "\n",
        "\n"
      ]
    },
    {
      "cell_type": "markdown",
      "source": [
        "Depth Limit Search\n"
      ],
      "metadata": {
        "id": "z-vNITI9oHBm"
      }
    },
    {
      "cell_type": "code",
      "source": [
        "x=[[0,1,1,0],[0,0,0,1],[0,0,0,0],[0,0,0,0]]\n",
        "ini=list(map(int,input().split(\" \")))\n",
        "goal=int(input(\"enter goal:\"))\n",
        "dep=int(input(\"enter limit\"))\n",
        "def dls(x,ini,goal,dep):\n",
        "  fron=[]\n",
        "  vis=[]\n",
        "  fron.append(ini)\n",
        "  while(len(fron)!=0):\n",
        "    j=fron.pop(-1)\n",
        "    if j[0] not in vis:\n",
        "      vis.append(j[0])\n",
        "      if(j[0]==goal):\n",
        "        return vis\n",
        "      for i in range(len(x)):\n",
        "        if(x[j[0]][i]==1 and j[1]<dep):\n",
        "          if i not in vis:\n",
        "            fron.append([i,(j[1]+1)])\n",
        "  return -1\n",
        "a=[]\n",
        "a=dls(x,ini,goal,dep)\n",
        "if(a==-1):\n",
        "  print(\"not found\")\n",
        "else:\n",
        "  print(a)"
      ],
      "metadata": {
        "colab": {
          "base_uri": "https://localhost:8080/"
        },
        "id": "KKkFp4XanMVa",
        "outputId": "f648642e-4575-4845-a8b7-7c230abff6d1"
      },
      "execution_count": 28,
      "outputs": [
        {
          "output_type": "stream",
          "name": "stdout",
          "text": [
            "0 0\n",
            "enter goal:2\n",
            "enter limit2\n",
            "[0, 2]\n"
          ]
        }
      ]
    },
    {
      "cell_type": "markdown",
      "source": [
        "**Iterative deepening**"
      ],
      "metadata": {
        "id": "UsPkPTtUtW6W"
      }
    },
    {
      "cell_type": "code",
      "source": [
        "x=[[0,1,1,0,0],[0,0,0,1,0],[0,0,0,0,1],[0,0,0,0,0],[0,0,0,0,0]]\n",
        "ini=list(map(int,input().split(\" \")))\n",
        "goal=int(input(\"enter goal:\"))\n",
        "depth=len(x)\n",
        "def id(x,ini,goal,depth):\n",
        "  for f in range(depth):\n",
        "    res=dls(x,ini,goal,f)\n",
        "  for i in res:\n",
        "    if(i==goal):\n",
        "      print(res)\n",
        "      break\n",
        "id(x,ini,goal,depth)\n"
      ],
      "metadata": {
        "colab": {
          "base_uri": "https://localhost:8080/"
        },
        "id": "rPr4H33QtebA",
        "outputId": "b545fea0-5f63-465a-e8ee-8867c6e125f0"
      },
      "execution_count": 36,
      "outputs": [
        {
          "output_type": "stream",
          "name": "stdout",
          "text": [
            "0 0\n",
            "enter goal:3\n",
            "[0, 2, 4, 1, 3]\n"
          ]
        }
      ]
    }
  ]
}